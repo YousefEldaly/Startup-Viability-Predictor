{
 "cells": [
  {
   "cell_type": "code",
   "execution_count": 1,
   "id": "687d7d3a",
   "metadata": {},
   "outputs": [],
   "source": [
    "import pandas as pd\n"
   ]
  },
  {
   "cell_type": "code",
   "execution_count": 3,
   "id": "abb35823",
   "metadata": {},
   "outputs": [],
   "source": [
    "df = pd.read_excel('../data/crunchbase_data.xlsx')"
   ]
  },
  {
   "cell_type": "code",
   "execution_count": 4,
   "id": "adb72d07",
   "metadata": {},
   "outputs": [
    {
     "name": "stdout",
     "output_type": "stream",
     "text": [
      "<class 'pandas.core.frame.DataFrame'>\n",
      "RangeIndex: 1595 entries, 0 to 1594\n",
      "Data columns (total 57 columns):\n",
      " #   Column                           Non-Null Count  Dtype  \n",
      "---  ------                           --------------  -----  \n",
      " 0   index                            1595 non-null   int64  \n",
      " 1   co-founder1                      1595 non-null   object \n",
      " 2   co-founder2                      832 non-null    object \n",
      " 3   organization name                1595 non-null   object \n",
      " 4   country                          1595 non-null   object \n",
      " 5   google_search_query_founder1     1595 non-null   object \n",
      " 6   google_search_query_founder2     832 non-null    object \n",
      " 7   co-founder1 linkedin profile     1595 non-null   object \n",
      " 8   co-founder2 linkedin profile     3 non-null      object \n",
      " 9   co-founder1 cv                   1595 non-null   object \n",
      " 10  key                              1595 non-null   object \n",
      " 11  Unnamed: 0                       1595 non-null   int64  \n",
      " 12  cb rank (company)                1595 non-null   object \n",
      " 13  cb rank (organization)           1595 non-null   object \n",
      " 14  co-founder1 crunchbase profile   1595 non-null   object \n",
      " 15  co-founder2 crunchbase profile   829 non-null    object \n",
      " 16  organization contact email       1595 non-null   object \n",
      " 17  organization crunchbase profile  1595 non-null   object \n",
      " 18  organization description         1595 non-null   object \n",
      " 19  estimated revenue range          1595 non-null   object \n",
      " 20  exit date                        1564 non-null   object \n",
      " 21  organization facebook            1072 non-null   object \n",
      " 22  founded date                     1595 non-null   object \n",
      " 23  organization full description    1594 non-null   object \n",
      " 24  growth confidence                1564 non-null   object \n",
      " 25  headquarters location            1594 non-null   object \n",
      " 26  headquarters location2           36 non-null     object \n",
      " 27  industry group1                  1570 non-null   object \n",
      " 28  industry group2                  1344 non-null   object \n",
      " 29  industry group3                  1025 non-null   object \n",
      " 30  industry group4                  740 non-null    object \n",
      " 31  industry group5                  495 non-null    object \n",
      " 32  industry group6                  2 non-null      object \n",
      " 33  industry1                        1570 non-null   object \n",
      " 34  industry2                        1403 non-null   object \n",
      " 35  industry3                        1138 non-null   object \n",
      " 36  industry4                        451 non-null    object \n",
      " 37  industry5                        291 non-null    object \n",
      " 38  industry6                        2 non-null      object \n",
      " 39  last funding amount              1595 non-null   object \n",
      " 40  last funding type                1595 non-null   object \n",
      " 41  organization linkedin            1247 non-null   object \n",
      " 42  number of articles               1595 non-null   object \n",
      " 43  number of employees              1593 non-null   object \n",
      " 44  number of founders               1595 non-null   object \n",
      " 45  number of investors              1594 non-null   object \n",
      " 46  number of lead investors         1594 non-null   object \n",
      " 47  operating status                 1595 non-null   object \n",
      " 48  organization phone number        1595 non-null   object \n",
      " 49  similar companies                1594 non-null   object \n",
      " 50  top investor1                    1129 non-null   object \n",
      " 51  top investor2                    575 non-null    object \n",
      " 52  top investor3                    349 non-null    object \n",
      " 53  top investor4                    0 non-null      float64\n",
      " 54  top investor5                    0 non-null      float64\n",
      " 55  organization twitter             913 non-null    object \n",
      " 56  organization website             1578 non-null   object \n",
      "dtypes: float64(2), int64(2), object(53)\n",
      "memory usage: 710.4+ KB\n"
     ]
    }
   ],
   "source": [
    "df.info()"
   ]
  },
  {
   "cell_type": "code",
   "execution_count": 6,
   "id": "0bb420a9",
   "metadata": {},
   "outputs": [],
   "source": [
    "df.drop(columns=['google_search_query_founder1', 'google_search_query_founder2',\n",
    "                'key', 'Unnamed: 0', 'cb rank (company)', 'cb rank (organization)',\n",
    "                'co-founder1 crunchbase profile', 'co-founder2 crunchbase profile',\n",
    "                'organization contact email', 'organization crunchbase profile', 'estimated revenue range',\n",
    "                'exit date', 'organization facebook', 'organization twitter', 'headquarters location2',\n",
    "                'last funding amount', 'last funding type', 'organization linkedin', 'number of articles',\n",
    "                'number of employees', 'number of lead investors', 'organization phone number', \n",
    "                'similar companies', 'organization website'], inplace=True)"
   ]
  },
  {
   "cell_type": "code",
   "execution_count": 7,
   "id": "255dbc9c",
   "metadata": {},
   "outputs": [
    {
     "name": "stdout",
     "output_type": "stream",
     "text": [
      "<class 'pandas.core.frame.DataFrame'>\n",
      "RangeIndex: 1595 entries, 0 to 1594\n",
      "Data columns (total 33 columns):\n",
      " #   Column                         Non-Null Count  Dtype  \n",
      "---  ------                         --------------  -----  \n",
      " 0   index                          1595 non-null   int64  \n",
      " 1   co-founder1                    1595 non-null   object \n",
      " 2   co-founder2                    832 non-null    object \n",
      " 3   organization name              1595 non-null   object \n",
      " 4   country                        1595 non-null   object \n",
      " 5   co-founder1 linkedin profile   1595 non-null   object \n",
      " 6   co-founder2 linkedin profile   3 non-null      object \n",
      " 7   co-founder1 cv                 1595 non-null   object \n",
      " 8   organization description       1595 non-null   object \n",
      " 9   founded date                   1595 non-null   object \n",
      " 10  organization full description  1594 non-null   object \n",
      " 11  growth confidence              1564 non-null   object \n",
      " 12  headquarters location          1594 non-null   object \n",
      " 13  industry group1                1570 non-null   object \n",
      " 14  industry group2                1344 non-null   object \n",
      " 15  industry group3                1025 non-null   object \n",
      " 16  industry group4                740 non-null    object \n",
      " 17  industry group5                495 non-null    object \n",
      " 18  industry group6                2 non-null      object \n",
      " 19  industry1                      1570 non-null   object \n",
      " 20  industry2                      1403 non-null   object \n",
      " 21  industry3                      1138 non-null   object \n",
      " 22  industry4                      451 non-null    object \n",
      " 23  industry5                      291 non-null    object \n",
      " 24  industry6                      2 non-null      object \n",
      " 25  number of founders             1595 non-null   object \n",
      " 26  number of investors            1594 non-null   object \n",
      " 27  operating status               1595 non-null   object \n",
      " 28  top investor1                  1129 non-null   object \n",
      " 29  top investor2                  575 non-null    object \n",
      " 30  top investor3                  349 non-null    object \n",
      " 31  top investor4                  0 non-null      float64\n",
      " 32  top investor5                  0 non-null      float64\n",
      "dtypes: float64(2), int64(1), object(30)\n",
      "memory usage: 411.3+ KB\n"
     ]
    }
   ],
   "source": [
    "df.info()"
   ]
  },
  {
   "cell_type": "code",
   "execution_count": null,
   "id": "f0a2e58d",
   "metadata": {},
   "outputs": [],
   "source": []
  }
 ],
 "metadata": {
  "kernelspec": {
   "display_name": "env",
   "language": "python",
   "name": "python3"
  },
  "language_info": {
   "codemirror_mode": {
    "name": "ipython",
    "version": 3
   },
   "file_extension": ".py",
   "mimetype": "text/x-python",
   "name": "python",
   "nbconvert_exporter": "python",
   "pygments_lexer": "ipython3",
   "version": "3.12.3"
  }
 },
 "nbformat": 4,
 "nbformat_minor": 5
}
